{
 "cells": [
  {
   "cell_type": "code",
   "execution_count": 1,
   "metadata": {
    "collapsed": true
   },
   "outputs": [],
   "source": [
    "import pandas as pd\n",
    "import numpy as np\n",
    "import folium"
   ]
  },
  {
   "cell_type": "code",
   "execution_count": 181,
   "metadata": {
    "collapsed": true
   },
   "outputs": [],
   "source": [
    "url = 'https://en.wikipedia.org/wiki/List_of_postal_codes_of_Canada:_M'\n",
    "\n",
    "dfs = pd.read_html(url, header=0)\n",
    "df = dfs[0]"
   ]
  },
  {
   "cell_type": "code",
   "execution_count": 3,
   "metadata": {},
   "outputs": [
    {
     "data": {
      "text/html": [
       "<div>\n",
       "<style>\n",
       "    .dataframe thead tr:only-child th {\n",
       "        text-align: right;\n",
       "    }\n",
       "\n",
       "    .dataframe thead th {\n",
       "        text-align: left;\n",
       "    }\n",
       "\n",
       "    .dataframe tbody tr th {\n",
       "        vertical-align: top;\n",
       "    }\n",
       "</style>\n",
       "<table border=\"1\" class=\"dataframe\">\n",
       "  <thead>\n",
       "    <tr style=\"text-align: right;\">\n",
       "      <th></th>\n",
       "      <th>Postcode</th>\n",
       "      <th>Borough</th>\n",
       "      <th>Neighbourhood</th>\n",
       "    </tr>\n",
       "  </thead>\n",
       "  <tbody>\n",
       "    <tr>\n",
       "      <th>0</th>\n",
       "      <td>M1A</td>\n",
       "      <td>Not assigned</td>\n",
       "      <td>Not assigned</td>\n",
       "    </tr>\n",
       "    <tr>\n",
       "      <th>1</th>\n",
       "      <td>M2A</td>\n",
       "      <td>Not assigned</td>\n",
       "      <td>Not assigned</td>\n",
       "    </tr>\n",
       "    <tr>\n",
       "      <th>2</th>\n",
       "      <td>M3A</td>\n",
       "      <td>North York</td>\n",
       "      <td>Parkwoods</td>\n",
       "    </tr>\n",
       "    <tr>\n",
       "      <th>3</th>\n",
       "      <td>M4A</td>\n",
       "      <td>North York</td>\n",
       "      <td>Victoria Village</td>\n",
       "    </tr>\n",
       "    <tr>\n",
       "      <th>4</th>\n",
       "      <td>M5A</td>\n",
       "      <td>Downtown Toronto</td>\n",
       "      <td>Harbourfront</td>\n",
       "    </tr>\n",
       "  </tbody>\n",
       "</table>\n",
       "</div>"
      ],
      "text/plain": [
       "  Postcode           Borough     Neighbourhood\n",
       "0      M1A      Not assigned      Not assigned\n",
       "1      M2A      Not assigned      Not assigned\n",
       "2      M3A        North York         Parkwoods\n",
       "3      M4A        North York  Victoria Village\n",
       "4      M5A  Downtown Toronto      Harbourfront"
      ]
     },
     "execution_count": 3,
     "metadata": {},
     "output_type": "execute_result"
    }
   ],
   "source": [
    "neigh_df.head()"
   ]
  },
  {
   "cell_type": "code",
   "execution_count": 182,
   "metadata": {},
   "outputs": [],
   "source": [
    "df.replace(\"Not assigned\", np.nan, inplace=True)"
   ]
  },
  {
   "cell_type": "code",
   "execution_count": 183,
   "metadata": {
    "collapsed": true
   },
   "outputs": [],
   "source": [
    "df.dropna(axis=0, inplace=True)"
   ]
  },
  {
   "cell_type": "code",
   "execution_count": 184,
   "metadata": {},
   "outputs": [
    {
     "data": {
      "text/plain": [
       "(210, 3)"
      ]
     },
     "execution_count": 184,
     "metadata": {},
     "output_type": "execute_result"
    }
   ],
   "source": [
    "df.shape"
   ]
  },
  {
   "cell_type": "code",
   "execution_count": 86,
   "metadata": {},
   "outputs": [
    {
     "data": {
      "text/html": [
       "<div>\n",
       "<style>\n",
       "    .dataframe thead tr:only-child th {\n",
       "        text-align: right;\n",
       "    }\n",
       "\n",
       "    .dataframe thead th {\n",
       "        text-align: left;\n",
       "    }\n",
       "\n",
       "    .dataframe tbody tr th {\n",
       "        vertical-align: top;\n",
       "    }\n",
       "</style>\n",
       "<table border=\"1\" class=\"dataframe\">\n",
       "  <thead>\n",
       "    <tr style=\"text-align: right;\">\n",
       "      <th></th>\n",
       "      <th>Neighbourhood</th>\n",
       "    </tr>\n",
       "  </thead>\n",
       "  <tbody>\n",
       "    <tr>\n",
       "      <th>282</th>\n",
       "      <td>Kingsway Park South West</td>\n",
       "    </tr>\n",
       "    <tr>\n",
       "      <th>283</th>\n",
       "      <td>Mimico NW</td>\n",
       "    </tr>\n",
       "    <tr>\n",
       "      <th>284</th>\n",
       "      <td>The Queensway West</td>\n",
       "    </tr>\n",
       "    <tr>\n",
       "      <th>285</th>\n",
       "      <td>Royal York South West</td>\n",
       "    </tr>\n",
       "    <tr>\n",
       "      <th>286</th>\n",
       "      <td>South of Bloor</td>\n",
       "    </tr>\n",
       "  </tbody>\n",
       "</table>\n",
       "</div>"
      ],
      "text/plain": [
       "                Neighbourhood\n",
       "282  Kingsway Park South West\n",
       "283                 Mimico NW\n",
       "284        The Queensway West\n",
       "285     Royal York South West\n",
       "286            South of Bloor"
      ]
     },
     "execution_count": 86,
     "metadata": {},
     "output_type": "execute_result"
    }
   ],
   "source": [
    "neigh_df = neigh_df[['Neighbourhood']]\n",
    "neigh_df.tail()"
   ]
  },
  {
   "cell_type": "code",
   "execution_count": 12,
   "metadata": {},
   "outputs": [],
   "source": [
    "from geopy.geocoders import Nominatim"
   ]
  },
  {
   "cell_type": "code",
   "execution_count": 50,
   "metadata": {
    "collapsed": true
   },
   "outputs": [],
   "source": [
    "latitude = []\n",
    "longitude = []"
   ]
  },
  {
   "cell_type": "code",
   "execution_count": 83,
   "metadata": {},
   "outputs": [
    {
     "ename": "KeyError",
     "evalue": "210",
     "output_type": "error",
     "traceback": [
      "\u001b[1;31m---------------------------------------------------------------------------\u001b[0m",
      "\u001b[1;31mKeyError\u001b[0m                                  Traceback (most recent call last)",
      "\u001b[1;32m<ipython-input-83-4cb37e8ce3af>\u001b[0m in \u001b[0;36m<module>\u001b[1;34m()\u001b[0m\n\u001b[0;32m      1\u001b[0m \u001b[1;33m\u001b[0m\u001b[0m\n\u001b[1;32m----> 2\u001b[1;33m \u001b[1;32mfor\u001b[0m \u001b[0mneighborhood\u001b[0m \u001b[1;32min\u001b[0m \u001b[0mneigh_df\u001b[0m\u001b[1;33m[\u001b[0m\u001b[1;34m'Neighbourhood'\u001b[0m\u001b[1;33m]\u001b[0m\u001b[1;33m[\u001b[0m\u001b[1;36m210\u001b[0m\u001b[1;33m]\u001b[0m\u001b[1;33m:\u001b[0m\u001b[1;33m\u001b[0m\u001b[0m\n\u001b[0m\u001b[0;32m      3\u001b[0m     \u001b[0mgeocoder\u001b[0m \u001b[1;33m=\u001b[0m \u001b[0mNominatim\u001b[0m\u001b[1;33m(\u001b[0m\u001b[1;33m)\u001b[0m\u001b[1;33m\u001b[0m\u001b[0m\n\u001b[0;32m      4\u001b[0m     \u001b[0mg\u001b[0m \u001b[1;33m=\u001b[0m \u001b[0mgeocoder\u001b[0m\u001b[1;33m.\u001b[0m\u001b[0mgeocode\u001b[0m\u001b[1;33m(\u001b[0m\u001b[1;34m'{}, Toronto, Ontario'\u001b[0m\u001b[1;33m.\u001b[0m\u001b[0mformat\u001b[0m\u001b[1;33m(\u001b[0m\u001b[0mneighborhood\u001b[0m\u001b[1;33m)\u001b[0m\u001b[1;33m)\u001b[0m\u001b[1;33m\u001b[0m\u001b[0m\n\u001b[0;32m      5\u001b[0m \u001b[1;33m\u001b[0m\u001b[0m\n",
      "\u001b[1;32mC:\\Users\\singh\\Anaconda3\\lib\\site-packages\\pandas\\core\\series.py\u001b[0m in \u001b[0;36m__getitem__\u001b[1;34m(self, key)\u001b[0m\n\u001b[0;32m    599\u001b[0m         \u001b[0mkey\u001b[0m \u001b[1;33m=\u001b[0m \u001b[0mcom\u001b[0m\u001b[1;33m.\u001b[0m\u001b[0m_apply_if_callable\u001b[0m\u001b[1;33m(\u001b[0m\u001b[0mkey\u001b[0m\u001b[1;33m,\u001b[0m \u001b[0mself\u001b[0m\u001b[1;33m)\u001b[0m\u001b[1;33m\u001b[0m\u001b[0m\n\u001b[0;32m    600\u001b[0m         \u001b[1;32mtry\u001b[0m\u001b[1;33m:\u001b[0m\u001b[1;33m\u001b[0m\u001b[0m\n\u001b[1;32m--> 601\u001b[1;33m             \u001b[0mresult\u001b[0m \u001b[1;33m=\u001b[0m \u001b[0mself\u001b[0m\u001b[1;33m.\u001b[0m\u001b[0mindex\u001b[0m\u001b[1;33m.\u001b[0m\u001b[0mget_value\u001b[0m\u001b[1;33m(\u001b[0m\u001b[0mself\u001b[0m\u001b[1;33m,\u001b[0m \u001b[0mkey\u001b[0m\u001b[1;33m)\u001b[0m\u001b[1;33m\u001b[0m\u001b[0m\n\u001b[0m\u001b[0;32m    602\u001b[0m \u001b[1;33m\u001b[0m\u001b[0m\n\u001b[0;32m    603\u001b[0m             \u001b[1;32mif\u001b[0m \u001b[1;32mnot\u001b[0m \u001b[0mis_scalar\u001b[0m\u001b[1;33m(\u001b[0m\u001b[0mresult\u001b[0m\u001b[1;33m)\u001b[0m\u001b[1;33m:\u001b[0m\u001b[1;33m\u001b[0m\u001b[0m\n",
      "\u001b[1;32mC:\\Users\\singh\\Anaconda3\\lib\\site-packages\\pandas\\core\\indexes\\base.py\u001b[0m in \u001b[0;36mget_value\u001b[1;34m(self, series, key)\u001b[0m\n\u001b[0;32m   2426\u001b[0m         \u001b[1;32mtry\u001b[0m\u001b[1;33m:\u001b[0m\u001b[1;33m\u001b[0m\u001b[0m\n\u001b[0;32m   2427\u001b[0m             return self._engine.get_value(s, k,\n\u001b[1;32m-> 2428\u001b[1;33m                                           tz=getattr(series.dtype, 'tz', None))\n\u001b[0m\u001b[0;32m   2429\u001b[0m         \u001b[1;32mexcept\u001b[0m \u001b[0mKeyError\u001b[0m \u001b[1;32mas\u001b[0m \u001b[0me1\u001b[0m\u001b[1;33m:\u001b[0m\u001b[1;33m\u001b[0m\u001b[0m\n\u001b[0;32m   2430\u001b[0m             \u001b[1;32mif\u001b[0m \u001b[0mlen\u001b[0m\u001b[1;33m(\u001b[0m\u001b[0mself\u001b[0m\u001b[1;33m)\u001b[0m \u001b[1;33m>\u001b[0m \u001b[1;36m0\u001b[0m \u001b[1;32mand\u001b[0m \u001b[0mself\u001b[0m\u001b[1;33m.\u001b[0m\u001b[0minferred_type\u001b[0m \u001b[1;32min\u001b[0m \u001b[1;33m[\u001b[0m\u001b[1;34m'integer'\u001b[0m\u001b[1;33m,\u001b[0m \u001b[1;34m'boolean'\u001b[0m\u001b[1;33m]\u001b[0m\u001b[1;33m:\u001b[0m\u001b[1;33m\u001b[0m\u001b[0m\n",
      "\u001b[1;32mpandas\\_libs\\index.pyx\u001b[0m in \u001b[0;36mpandas._libs.index.IndexEngine.get_value (pandas\\_libs\\index.c:4363)\u001b[1;34m()\u001b[0m\n",
      "\u001b[1;32mpandas\\_libs\\index.pyx\u001b[0m in \u001b[0;36mpandas._libs.index.IndexEngine.get_value (pandas\\_libs\\index.c:4046)\u001b[1;34m()\u001b[0m\n",
      "\u001b[1;32mpandas\\_libs\\index.pyx\u001b[0m in \u001b[0;36mpandas._libs.index.IndexEngine.get_loc (pandas\\_libs\\index.c:5085)\u001b[1;34m()\u001b[0m\n",
      "\u001b[1;32mpandas\\_libs\\hashtable_class_helper.pxi\u001b[0m in \u001b[0;36mpandas._libs.hashtable.Int64HashTable.get_item (pandas\\_libs\\hashtable.c:13913)\u001b[1;34m()\u001b[0m\n",
      "\u001b[1;32mpandas\\_libs\\hashtable_class_helper.pxi\u001b[0m in \u001b[0;36mpandas._libs.hashtable.Int64HashTable.get_item (pandas\\_libs\\hashtable.c:13857)\u001b[1;34m()\u001b[0m\n",
      "\u001b[1;31mKeyError\u001b[0m: 210"
     ]
    }
   ],
   "source": [
    "for neighborhood in neigh_df['Neighbourhood']:\n",
    "    geocoder = Nominatim()\n",
    "    g = geocoder.geocode('{}, Toronto, Ontario'.format(neighborhood))\n",
    "    \n",
    "    if g is None:\n",
    "        latitude.append(0)\n",
    "        longitude.append(0)\n",
    "    else:\n",
    "        latitude.append(g.latitude)\n",
    "        longitude.append(g.longitude)\n",
    "    "
   ]
  },
  {
   "cell_type": "code",
   "execution_count": 87,
   "metadata": {},
   "outputs": [
    {
     "name": "stderr",
     "output_type": "stream",
     "text": [
      "C:\\Users\\singh\\Anaconda3\\lib\\site-packages\\ipykernel_launcher.py:1: DeprecationWarning: Using Nominatim with the default \"geopy/1.20.0\" `user_agent` is strongly discouraged, as it violates Nominatim's ToS https://operations.osmfoundation.org/policies/nominatim/ and may possibly cause 403 and 429 HTTP errors. Please specify a custom `user_agent` with `Nominatim(user_agent=\"my-application\")` or by overriding the default `user_agent`: `geopy.geocoders.options.default_user_agent = \"my-application\"`. In geopy 2.0 this will become an exception.\n",
      "  \"\"\"Entry point for launching an IPython kernel.\n"
     ]
    }
   ],
   "source": [
    "geocoder = Nominatim()\n",
    "g = geocoder.geocode('South of Bloor, Toronto, Ontario')\n",
    "\n",
    "if g is None:\n",
    "    latitude.append(0)\n",
    "    longitude.append(0)\n",
    "else:\n",
    "    latitude.append(g.latitude)\n",
    "    longitude.append(g.longitude)\n",
    "    "
   ]
  },
  {
   "cell_type": "code",
   "execution_count": 88,
   "metadata": {},
   "outputs": [
    {
     "data": {
      "text/plain": [
       "210"
      ]
     },
     "execution_count": 88,
     "metadata": {},
     "output_type": "execute_result"
    }
   ],
   "source": [
    "len(longitude)"
   ]
  },
  {
   "cell_type": "code",
   "execution_count": null,
   "metadata": {},
   "outputs": [],
   "source": []
  },
  {
   "cell_type": "code",
   "execution_count": 68,
   "metadata": {},
   "outputs": [
    {
     "data": {
      "text/plain": [
       "(210, 1)"
      ]
     },
     "execution_count": 68,
     "metadata": {},
     "output_type": "execute_result"
    }
   ],
   "source": [
    "neigh_df.shape"
   ]
  },
  {
   "cell_type": "code",
   "execution_count": 90,
   "metadata": {},
   "outputs": [],
   "source": [
    "neigh_df['Latitude'] = latitude\n",
    "neigh_df['Longitude'] = longitude"
   ]
  },
  {
   "cell_type": "code",
   "execution_count": null,
   "metadata": {},
   "outputs": [],
   "source": []
  },
  {
   "cell_type": "code",
   "execution_count": 103,
   "metadata": {},
   "outputs": [],
   "source": [
    "df_pedestrian = pd.read_excel('pedestrian_density.xlsx')"
   ]
  },
  {
   "cell_type": "code",
   "execution_count": 97,
   "metadata": {
    "collapsed": true
   },
   "outputs": [],
   "source": [
    "neigh_df.replace(0, np.nan, inplace=True)"
   ]
  },
  {
   "cell_type": "code",
   "execution_count": null,
   "metadata": {},
   "outputs": [],
   "source": []
  },
  {
   "cell_type": "code",
   "execution_count": 99,
   "metadata": {
    "collapsed": true
   },
   "outputs": [],
   "source": [
    "neigh_df.dropna(axis=0, inplace = True)"
   ]
  },
  {
   "cell_type": "code",
   "execution_count": 101,
   "metadata": {},
   "outputs": [
    {
     "data": {
      "text/plain": [
       "(198, 3)"
      ]
     },
     "execution_count": 101,
     "metadata": {},
     "output_type": "execute_result"
    }
   ],
   "source": [
    "neigh_df.shape"
   ]
  },
  {
   "cell_type": "code",
   "execution_count": 161,
   "metadata": {
    "collapsed": true
   },
   "outputs": [],
   "source": [
    "neighborhood = []"
   ]
  },
  {
   "cell_type": "code",
   "execution_count": 174,
   "metadata": {},
   "outputs": [
    {
     "name": "stderr",
     "output_type": "stream",
     "text": [
      "C:\\Users\\singh\\Anaconda3\\lib\\site-packages\\ipykernel_launcher.py:2: DeprecationWarning: Using Nominatim with the default \"geopy/1.20.0\" `user_agent` is strongly discouraged, as it violates Nominatim's ToS https://operations.osmfoundation.org/policies/nominatim/ and may possibly cause 403 and 429 HTTP errors. Please specify a custom `user_agent` with `Nominatim(user_agent=\"my-application\")` or by overriding the default `user_agent`: `geopy.geocoders.options.default_user_agent = \"my-application\"`. In geopy 2.0 this will become an exception.\n",
      "  \n"
     ]
    }
   ],
   "source": [
    "for lat, lng in zip(df_pedestrian['Latitude'][2000:2280], df_pedestrian['Longitude'][2000:2280]):\n",
    "    geolocator = Nominatim()\n",
    "    g = geolocator.reverse(\"{}, {}\".format(lat, lng), timeout=10)\n",
    "    try:\n",
    "        neighborhood.append(g.raw['address']['neighbourhood'])\n",
    "    except KeyError:\n",
    "        neighborhood.append(0)"
   ]
  },
  {
   "cell_type": "code",
   "execution_count": 175,
   "metadata": {},
   "outputs": [
    {
     "data": {
      "text/plain": [
       "2280"
      ]
     },
     "execution_count": 175,
     "metadata": {},
     "output_type": "execute_result"
    }
   ],
   "source": [
    "len(neighborhood)"
   ]
  },
  {
   "cell_type": "code",
   "execution_count": 169,
   "metadata": {},
   "outputs": [
    {
     "name": "stdout",
     "output_type": "stream",
     "text": [
      "['St. Lawrence', 'St. Lawrence', 'St. Lawrence', 'King East', 'King East', 'Garden District', 'Garden District', 'Garden District', 'Church-Wellesley Village', 'Church-Wellesley Village', 'Church-Wellesley Village', 'Yorkville', 'Rosedale', 'King East', 'King East', 'King East', 'Garden District', 'King East', 'Garden District', 'Garden District', 'Downtown Yonge', 'Church-Wellesley Village', 'Church-Wellesley Village', 'Yorkville', 'King East', 'King East', 'King East', 'King East', 0, 'King East', 0, 'Downtown Yonge', 'Downtown Yonge', 'Downtown Yonge', 'Downtown Yonge', 'Downtown Yonge', 'Church-Wellesley Village', 'Church-Wellesley Village', 'Yorkville', 'Yorkville', 'Yorkville', 'Yorkville', 'Yorkville', 0, 'Deer Park', 'Chaplin Estates', 'Yonge & Eglinton', 'Yonge & Eglinton', 'Yonge & Eglinton', 0, 'Lawrence Park', 0, 'Lawrence Park', 0, 'Lawrence Park', 'Lawrence Park', 'Lawrence Park', 'Financial District', 0, 0, 0, 0, 'Downtown Yonge', 'Little Tokyo', 'Downtown Yonge', 0, 'Discovery District', 'Church-Wellesley Village', 'Yorkville', 0, 0, 0, 'Financial District', 'Financial District', 'Financial District', 'Entertainment District', 0, 'Entertainment District', 'Entertainment District', 0, 'Discovery District', 'Discovery District', 'Bloor Street Culture Corridor', 'Bloor Street Culture Corridor', 'Bloor Street Culture Corridor', 'Leaside Business Park', 'Leaside Business Park', 'Leaside Business Park', 'Leaside', 'Davisville', 'Davisville', 'Davisville', 0, 0, 0, 'Eglinton Way', 'Eglinton Way', 'Eglinton Way', 'Cedarvale', 0, 0, 0, 'Fairbank', 'Fairbank', 'Fairbank', 'Bloor Street Culture Corridor', 'Bloor Street Culture Corridor', 'Bloor Street Culture Corridor', 'South Hill', 'Deer Park', 'Deer Park', 'Deer Park', 'Chaplin Estates', 'Chaplin Estates', 'Chaplin Estates', 'Lytton Park', 'Lytton Park', 'Lytton Park', 'Bedford Park', 'Bedford Park', 'Bedford Park', 0, 'St. John', 'Lansing', 'Lansing', 'Lansing', 'Newton Brook', 'Newton Brook', 0, 0, 'Rosedale', 'Moore Park', 'Moore Park', 'Moore Park', 'Davisville', 'Davisville', 'Davisville', 'Davisville', 'Sherwood Park', 'Sherwood Park', 'Lawrence Park', 'West Hill', 'West Hill', 'Guildwood Village', 'Upper Guild', 'Scarborough Village', 0, 'Cliffcrest', 'Cliffcrest', 'Cliffside', 'Cliffside', 'Cliffside', 'Birchcliff', 'Birchcliff', 'Oakridge', 'Oakridge', 'Danforth Station', 'Danforth Station', 'Danforth Station', 'The Beaches', 'The Beaches', 0, 'Cliffcrest', 'Yorkville', 'Entertainment District', 0, 0, 'Bennington Heights', 'Leaside', 'Leaside', 'Leaside', 'South Hill', 'Corktown', 'Corktown', 'Regent Park', 'Regent Park', 'Danforth Station', 'Leaside', 0, 'Little Portugal', 'Little Portugal', 'Little Portugal', 'Parkway Forest', 'Warren Park', 'Runnymede', 0, 0, 'The Bridle Path', 'Little Portugal', 0, 'Eglinton', 'Church-Wellesley Village', 'Earlscourt', 0, 'Kensington Market', 'Regent Park', 'Entertainment District', 'Entertainment District', 'Sherwood Park', 'King West', 'Victoria Village', 0, 'South Core', 'Harbourfront', 'Leslieville', 0, 'Port Lands', 0, 0, 'South Core', 'South Core', 'South Core', 'Trefann Court', 'CityPlace', 'Bathurst Quay', 0, 'Mimico By-The-Lake', 0, 'Davisville', 'Fort York', 'Fort York', 'Trefann Court', 0, 'Yorkville', 0, 'Bloor Street Culture Corridor', 0, 0, 'Mimico By-The-Lake', 'Mimico By-The-Lake', 'Mimico By-The-Lake', 'Mimico', 'Lakeshore Village', 'Weston', 'New Toronto', 'The Lakeshore Grounds', 'The Lakeshore Grounds', 'The Lakeshore Grounds', 'Long Branch', 'Long Branch', 'Long Branch', 'Long Branch', 'Trefann Court', 'Trefann Court', 'Trefann Court', 'Trefann Court', 'Cabbagetown', 'Cabbagetown', 'Cabbagetown', 'St. James Town', 'St. James Town', 'St. Lawrence', 'Moss Park', 'St. Lawrence', 'Moss Park', 'Moss Park', 'Moss Park', 'Cabbagetown', 'St. James Town', 'St. James Town', 'St. James Town', 'Entertainment District', 'Entertainment District', 'Discovery District', 'Chinatown', 'Entertainment District', 'Queen West', 'Entertainment District', 'Entertainment District', 'Bloor Street Culture Corridor', 'Fashion District', 'Fashion District', 'Fashion District', 'Queen West', 'Queen West', 'Chinatown', 'Chinatown', 'Chinatown', 'Kensington Market', 'The Annex', 'Don Vale', 0, 'Gerrard India Bazaar', 'East End', 'East End', 'Leslieville', 'Leslieville', 'Leslieville', 'Riverdale', 'Riverdale', 'Riverdale', 'Regent Park', 'Danforth by the Valley', 0, 'Alexandra Park', 'King West', 'King West', 'Fort York', 'Kensington Market', 0, 'Leslieville', 'Harbord Village', 'Seaton Village', 'Seaton Village', 'St. Clair West', 'St. Clair West', 'Cedarvale', 0, 0, 0, 'Lawrence Manor', 'Lawrence Manor', 'Lawrence Manor', 'Lawrence Manor', 'Lawrence Manor', 'Lawrence Manor', 'Lawrence Manor', 'Moss Park', 'Wilson Heights', 'Mirvish Village', 'Koreatown', 'Bloorcourt Village', 'Dovercourt', 'Dovercourt', 'Bloordale Village', 0, 0, 0, 0, 0, 'Bloor West Village', 'Bloor West Village', 'Bloor West Village', 'Old Mill', 'Old Mill', 'The Kingsway', 'The Kingsway', 'Islington Village', 'The Kingsway', 'Bloorcourt Village', 'Danforth by the Valley', 'Broadview North', 'Pape Village', 'Pape Village', 'Pape Village', 'East End', 'Gerrard India Bazaar', 'Danforth Village', 'Danforth Village', 'Danforth Village', 'Danforth East', 'Danforth East', 'Danforth East', 0, 'Oakridge', 'Oakridge', 'Oakridge', 'Birchcliff', 'Oakridge', 'Danforth Station', 'Danforth Station', 'Beach Hill', 'Beach Hill', 'Beach Hill', 'Beach Hill', 'Danforth Village', 0, 'East End', 'Leslieville', 'East End', 'Riverdale', 'Chinatown East', 'Chinatown East', 'Scarborough Junction', 'Oakridge', 'Kennedy Park', 'Eglinton', 0, 'Bendale', 'Bloor Street Culture Corridor', 0, 'Tarragon Village', 'St. Clair West', 'Hillcrest Village', 'Dovercourt', 'Oakwood', 'Corso Italia', 'Wallace Emerson', 'Carleton Village', 0, 'Scarborough Junction', 'Emery', 'Keelesdale', 'Harwood', 'Armour Heights', 'Woburn', 'Woburn', 0, 'The Bridle Path', 'Don Mills', 'Don Mills', 'Don Mills', 'Wynford', 'Birchcliff', 'Victoria Village', 0, 'Wexford Heights', 'Wexford', 'Dorset Park', 'Dorset Park', 'Dorset Park', 'Bendale', 0, 'Bendale', 'Woburn', 'Scarborough Junction', 'Oakridge', 'Woburn', 'Woburn', 0, 'Lytton Park', 'Lawrence Manor', 'Lawrence Manor', 'Glen Park', 'Lawrence Heights', 'Castlefield Design District', 'North Park', 'Maple Leaf', 'Weston', 'Weston', 'Humber Heights', 0, 'St. Phillips', 'Kingsview Village', 'Martin Grove Gardens', 0, 'Cedarvale', 'Danforth by the Valley', 'Broadview North', 'Broadview North', 'Todmorden Village', 'Todmorden Village', 'Todmorden Village', 0, 'Woodbine Heights', 'Woodbine Heights', 'Woodbine Gardens', 'Victoria Village', 'Golden Mile', 'Victoria Village', 'Golden Mile', 'Don Mills', 'Flemingdon Park', 'Victoria Village', 'Golden Mile', 'Ionview', 'Ionview', 'Ionview', 'Ionview', 0, 0, 'Scarborough Village', 'Fairbank', 'Rogers Road', 'Keelesdale', 'Keelesdale', 'Mount Dennis', 'Keelesdale', 'Woodbine Gardens', 0, 0, 'Birchmount Park', 'Birchmount Park', 'Scarborough Junction', 'Kennedy Park', 'Danforth by the Valley', 'South Hill', 'St. Clair West', 'St. Clair West', 'Lansing', 'Sherwood Park', 'First Chinatown', 'St. Clair West', 'Hillcrest Village', 'Oakwood', 'Corso Italia', 'Corso Italia', 'Earlscourt', 'Carleton Village', 'Carleton Village', 0, 0, 'Runnymede', 'Lambton', 0, 'Cliffcrest', 'Deer Park', 'West Hill', 'Weston', 'Lytton Park', 'West Hill', 'Wexford', 'Lytton Park', 'Cedarvale', 'Cedarvale', 0, 0, 'Mirvish Village', 'Bloor Street Culture Corridor', 'Cloverdale', 0, 'Clairlea', 'Victoria Village', 'Victoria Village', 0, 0, 'Parkway East', 'Clairlea', 0, 0, 'Humberside', 'Humberside', 'Lambton', 'Lambton', 'Mount Dennis', 'Mount Dennis', 'Mount Dennis', 'Weston', 'Weston', 'Maple Leaf', 0, 0, 'Jane & Finch', 'Vaughan Corporate Centre', 0, 'King West', 'Liberty Village', 'Parkdale', 'Parkdale', 'Yorkville', 'Chinatown', 'Riverdale', 'Leslieville', 'Leslieville', 'Leslieville', 'Leslieville', 'The Beaches', 'The Beaches', 'The Beaches', 'The Beaches', 'Queen West', 'King West', 'West Queen West', 0, 'Little Portugal', 0, 'Parkdale', 0, 0, 0, 'Humber Bay', 'Humber Bay', 'Mimico Village', 'The Queensway', 'The Queensway', 'The Queensway', \"L'Amoreaux\", 'Cloverdale', 'Liberty Village', 'Church-Wellesley Village', 0, 0, 0, 0, 'Harwood', 'Mount Dennis', 'Mount Dennis', 'Weston', 'Weston', 'Weston', 'Weston', 0, 0, 'Humberlea', 'Humberlea', 'Humberlea', 'Emery', 'Keelesdale', 'Keelesdale', 'Keelesdale', 'Keelesdale', 'North Park', 'North Park', 'Downsview', 'Downsview', 'Downsview', 'William Baker', 'William Baker', 'William Baker', 0, 'Deer Park', 'Woodbine Gardens', 'Little Portugal', 'Dufferin Grove', 'Dovercourt', 'Dovercourt', 'Corso Italia', 'Earlscourt', 0, 'Fairbank', 'Glen Park', 'Lawrence Heights', 'Lawrence Heights', 'Lawrence Heights', 'Winston Park', 'Fisherville', 'Fisherville', 'Flemingdon Park', 'Flemingdon Park', 0, 'Don Mills', 'Don Mills', 'Don Mills', 'York Heights', 'Parkway Forest', 'The Peanut', 'The Peanut', 'Winston Park', 'Winston Park', 0, 'William Baker', 'York Heights', 'Weston', 'The Queensway', 'Emery', 'Scarborough Village', 'Lansing', 0, 0, 'Todmorden Village', 'The Bridle Path', 'York Mills', 'York Mills', 0, 0, 0, 0, 'Newton Brook', 'Bayview Woods-Steeles', 'Thornlea', 'Bayview Woods-Steeles', 'Crescent Town', 'Clairlea', 'Danforth East', 'Danforth Village', 'Olde East York Village', 'Pape Village', 'Woodbine Heights', 0, 'Olde East York Village', 'Pape Village', 'Pape Village', 'Woodbine Heights', 0, 'Olde East York Village', 'Todmorden Village', 'Pape Village', 'Armour Heights', 'Armour Heights', 'Armour Heights', 'Lansing', 'Lansing', 0, 0, 0, 0, 'Thorncliffe Park', 'Thorncliffe Park', 'Leaside Business Park', 'Leaside Business Park', 'Leaside', 'Leaside', 'Leaside', 'Leaside', 'Thorncliffe Park', 'Wexford Heights', 'Oakridge', 'Golden Mile', 'Kennedy', 'Ellesmere', 'Maryvale', 'Maryvale', 'Ellesmere', 'Kennedy', 'Kennedy', 'Bendale', 'Bendale', 'Woburn', 'Malvern West', 'Woburn', 'Woburn', 'Woburn', 'The Queensway', 0, 'Thorncrest Village', 'Princess Anne Manor', 'Richview', 'Richview', 'Richview', 'Pine Point', 'Pine Point', 'Pine Point', 'Pine Point', 'Rexdale', 'Thistletown', 'Pine Point', 'Morningside', 'Eglinton Way', 'Harwood', 'Steeles', 'Pine Point', 'The Queensway', 'Six Points', 'Islington Village', 'Princess Anne Manor', 'Princess Anne Manor', 'Princess Margaret', 'Richview', 'Kingsview Village', 'Kipling Heights', 'Kipling Heights', 'Beaumonde Heights', 0, 'Don Mills', 'Don Mills', 'Silver Hills', 'Wilson Heights', 'Lansing', 0, 'Bayview Village', 'Bayview Village', 'Henry Farm', 'Henry Farm', 'Parkway Forest', 'Parkway Forest', 'Sullivan', 'Sullivan', \"L'Amoreaux\", \"Tam O'Shanter\", 'Agincourt Centre', 'Concord Park Place', 0, 'Silver Hills', 'Parkway East', 'Parkway East', 'Sullivan', 0, \"Tam O'Shanter\", 'Maryvale', 'Alderwood', 'Alderwood', 'The Lakeshore Grounds', 'The Queensway', 'The Lakeshore Grounds', 'The Lakeshore Grounds', 'Davisville', 'Corso Italia', 'Lakeshore Village', 'Lakeshore Village', 'Little Jamaica', 'Mimico Village', 'The Queensway', 'The Queensway', 0, 'Islington Village', 'Cloverdale', 'Six Points', 0, 'Westmount', 'Lambton', 'Westmount', 'Westmount', 'Islington', 'Princess Margaret', 'Martin Grove Gardens', 0, 'Highfield', 'Highfield', 'Beaumonde Heights', 'Cloverdale', 'Bloordale Gardens', 0, 'Humberlea', 'Rogers Road', 'Castlefield Design District', 'Keelesdale', 0, 'Rogers Road', 'Rogers Road', 'Oakwood', 'Little Jamaica', 'Glen Park', 'Glen Park', 'Newton Brook', 'Newton Brook', 'Northwood Park', 'Jane & Finch', 'Emery', 'Emery', 'Lansing', 'Humberlea', 'Wilson Heights', 'Downsview', 'Canary District', 'Riverdale', 'Leslieville', 'Leslieville', 0, 'South Core', 'Flemingdon Park', 'Mount Dennis', 'Beach Hill', 'Discovery District', 'Kensington Market', 'Chinatown', 0, 'Dufferin Grove', 'Little Portugal', 'Little Portugal', 'Parkdale', 0, 'Harbord Village', 'Koreatown', 'Bloorcourt Village', 'Bloor Street Culture Corridor', 'Bloor Street Culture Corridor', 'Bloor Street Culture Corridor', 0, 'Christie Pits', 0, 'Dovercourt', 'Wallace Emerson', 0, 0, 'Runnymede', 'Little Malta', 'Dovercourt', 'Bloorcourt Village', 'Bloordale Village', 'Forest Hill', 'Eglinton Way', 0, 'Lytton Park', 'Newton Brook', 'Downsview', 'Upper Guild', 0, 'Deer Park', 'Humberlea', 0, 'Agincourt Centre', 'Sullivan', 'Alderwood', 'Alderwood', 'Church-Wellesley Village', 'Hillcrest Village', 'Don Valley Village', 'Jane & Finch', \"L'Amoreaux\", 'Bayview Woods-Steeles', 'Castlefield Design District', 'Old Burnhamthorpe', 'Eatonville', 'Leslieville', 'Woburn', 0, 'Glen Agar', 'Keelesdale', 'Cloverdale', 'Cloverdale', 'Bloordale Gardens', 'Victoria Village', 'Birchmount Park', 'Ionview', 'Alderwood', 'Kingsview Village', 'Morningside', 'Fisherville', 'Birchcliff', 'Alderwood', 'Alderwood', 'Fairbank', 'Yorkville', 'Yorkville', 'Henry Farm', 'Parkway East', 0, 'Christie Pits', 'Morningside', 'West Humber Estates', 'Regent Park', 'Cloverdale', 'Mount Dennis', 'Parkway Forest', 'West Deane Park', 'The Queensway', 'Downtown Yonge', 'Islington', 'Alderwood', 0, 0, 'Wexford', 'Cloverdale', 'York Heights', 'Alderwood', 0, 'Agincourt Centre', 'Ellesmere', 'Yorkville', 'Don Vale', 0, 'Markland Woods', 'Eringate', 'Eringate', \"Tam O'Shanter\", 'William Baker', 0, 'Liberty Village', 'Woburn', 'Victoria Village', 'Jane & Finch', 'German Mills', 0, 'Eatonville', 'Eringate', 'Malvern West', 'Malvern West', 0, 0, 0, 'Weston', 0, 'Lansing', 'The Lakeshore Grounds', 'Rexdale', 'Eatonville', 'Eatonville', 'Eatonville', 'Bendale', 'Hillcrest Village', 0, 'Princess Margaret', 'St. Phillips', 0, 0, 'Maryvale', 'Dorset Park', 'Humber Summit', 'Jane & Finch', 'Jane & Finch', 0, 'Silverthorn', 'Concord Park Place', 'Newton Brook', 'Jane & Finch', 'Bloor Street Culture Corridor', 'Bendale', 0, 'Malvern West', 'Jane & Finch', 0, 'Richview Gardens', 'Old Burnhamthorpe', 'Woburn', 'Woburn', 'York Heights', 'Lansing', 0, 'Lawrence Manor', 'Crescent Town', 0, 'Yorkville', 'St. Phillips', 'Newton Brook', \"Tam O'Shanter\", 'Kennedy Park', 'Mimico By-The-Lake', 'Scarborough Village', 'Bedford Park', 'West Humber Estates', 'Downtown Yonge', 0, 'Bendale', 'Bendale', 'Bendale', 'Fisherville', 'Bayview Woods-Steeles', 0, 'Beaumonde Heights', 'Jane & Finch']\n"
     ]
    }
   ],
   "source": [
    "print(neighborhood)"
   ]
  },
  {
   "cell_type": "code",
   "execution_count": 176,
   "metadata": {},
   "outputs": [],
   "source": [
    "df_pedestrian['neighborhood'] = neighborhood"
   ]
  },
  {
   "cell_type": "code",
   "execution_count": 177,
   "metadata": {},
   "outputs": [
    {
     "data": {
      "text/plain": [
       "(2280, 12)"
      ]
     },
     "execution_count": 177,
     "metadata": {},
     "output_type": "execute_result"
    }
   ],
   "source": [
    "df_pedestrian.shape"
   ]
  },
  {
   "cell_type": "code",
   "execution_count": 178,
   "metadata": {},
   "outputs": [
    {
     "data": {
      "text/html": [
       "<div>\n",
       "<style>\n",
       "    .dataframe thead tr:only-child th {\n",
       "        text-align: right;\n",
       "    }\n",
       "\n",
       "    .dataframe thead th {\n",
       "        text-align: left;\n",
       "    }\n",
       "\n",
       "    .dataframe tbody tr th {\n",
       "        vertical-align: top;\n",
       "    }\n",
       "</style>\n",
       "<table border=\"1\" class=\"dataframe\">\n",
       "  <thead>\n",
       "    <tr style=\"text-align: right;\">\n",
       "      <th></th>\n",
       "      <th>TCS #</th>\n",
       "      <th>Main</th>\n",
       "      <th>Midblock Route</th>\n",
       "      <th>Side 1 Route</th>\n",
       "      <th>Side 2 Route</th>\n",
       "      <th>Activation Date</th>\n",
       "      <th>Latitude</th>\n",
       "      <th>Longitude</th>\n",
       "      <th>Count Date</th>\n",
       "      <th>8 Peak Hr Vehicle Volume</th>\n",
       "      <th>8 Peak Hr Pedestrian Volume</th>\n",
       "      <th>neighborhood</th>\n",
       "    </tr>\n",
       "  </thead>\n",
       "  <tbody>\n",
       "    <tr>\n",
       "      <th>0</th>\n",
       "      <td>2</td>\n",
       "      <td>JARVIS ST</td>\n",
       "      <td>NaN</td>\n",
       "      <td>FRONT ST E</td>\n",
       "      <td>NaN</td>\n",
       "      <td>11/15/1948</td>\n",
       "      <td>43.649418</td>\n",
       "      <td>-79.371446</td>\n",
       "      <td>2017-06-21</td>\n",
       "      <td>15662</td>\n",
       "      <td>13535</td>\n",
       "      <td>St. Lawrence</td>\n",
       "    </tr>\n",
       "    <tr>\n",
       "      <th>1</th>\n",
       "      <td>3</td>\n",
       "      <td>KING ST E</td>\n",
       "      <td>NaN</td>\n",
       "      <td>JARVIS ST</td>\n",
       "      <td>NaN</td>\n",
       "      <td>08/23/1950</td>\n",
       "      <td>43.650461</td>\n",
       "      <td>-79.371924</td>\n",
       "      <td>2016-09-17</td>\n",
       "      <td>12960</td>\n",
       "      <td>7333</td>\n",
       "      <td>St. Lawrence</td>\n",
       "    </tr>\n",
       "    <tr>\n",
       "      <th>2</th>\n",
       "      <td>4</td>\n",
       "      <td>JARVIS ST</td>\n",
       "      <td>NaN</td>\n",
       "      <td>ADELAIDE ST E</td>\n",
       "      <td>NaN</td>\n",
       "      <td>09/12/1958</td>\n",
       "      <td>43.651534</td>\n",
       "      <td>-79.372360</td>\n",
       "      <td>2016-11-08</td>\n",
       "      <td>17770</td>\n",
       "      <td>7083</td>\n",
       "      <td>St. Lawrence</td>\n",
       "    </tr>\n",
       "    <tr>\n",
       "      <th>3</th>\n",
       "      <td>5</td>\n",
       "      <td>JARVIS ST</td>\n",
       "      <td>NaN</td>\n",
       "      <td>RICHMOND ST E</td>\n",
       "      <td>NaN</td>\n",
       "      <td>04/21/1962</td>\n",
       "      <td>43.652718</td>\n",
       "      <td>-79.372824</td>\n",
       "      <td>2015-12-08</td>\n",
       "      <td>19678</td>\n",
       "      <td>4369</td>\n",
       "      <td>King East</td>\n",
       "    </tr>\n",
       "    <tr>\n",
       "      <th>4</th>\n",
       "      <td>6</td>\n",
       "      <td>JARVIS ST</td>\n",
       "      <td>NaN</td>\n",
       "      <td>QUEEN ST E</td>\n",
       "      <td>NaN</td>\n",
       "      <td>08/24/1928</td>\n",
       "      <td>43.653704</td>\n",
       "      <td>-79.373238</td>\n",
       "      <td>2016-09-17</td>\n",
       "      <td>14487</td>\n",
       "      <td>3368</td>\n",
       "      <td>King East</td>\n",
       "    </tr>\n",
       "  </tbody>\n",
       "</table>\n",
       "</div>"
      ],
      "text/plain": [
       "   TCS #       Main Midblock Route   Side 1 Route Side 2 Route  \\\n",
       "0      2  JARVIS ST            NaN     FRONT ST E          NaN   \n",
       "1      3  KING ST E            NaN      JARVIS ST          NaN   \n",
       "2      4  JARVIS ST            NaN  ADELAIDE ST E          NaN   \n",
       "3      5  JARVIS ST            NaN  RICHMOND ST E          NaN   \n",
       "4      6  JARVIS ST            NaN     QUEEN ST E          NaN   \n",
       "\n",
       "  Activation Date   Latitude  Longitude Count Date  8 Peak Hr Vehicle Volume  \\\n",
       "0      11/15/1948  43.649418 -79.371446 2017-06-21                     15662   \n",
       "1      08/23/1950  43.650461 -79.371924 2016-09-17                     12960   \n",
       "2      09/12/1958  43.651534 -79.372360 2016-11-08                     17770   \n",
       "3      04/21/1962  43.652718 -79.372824 2015-12-08                     19678   \n",
       "4      08/24/1928  43.653704 -79.373238 2016-09-17                     14487   \n",
       "\n",
       "   8 Peak Hr Pedestrian Volume  neighborhood  \n",
       "0                        13535  St. Lawrence  \n",
       "1                         7333  St. Lawrence  \n",
       "2                         7083  St. Lawrence  \n",
       "3                         4369     King East  \n",
       "4                         3368     King East  "
      ]
     },
     "execution_count": 178,
     "metadata": {},
     "output_type": "execute_result"
    }
   ],
   "source": [
    "df_pedestrian.head()"
   ]
  },
  {
   "cell_type": "code",
   "execution_count": 194,
   "metadata": {
    "collapsed": true
   },
   "outputs": [],
   "source": [
    "df_pedestrian.to_csv('pedestrian_density_neighborhood.csv')"
   ]
  },
  {
   "cell_type": "code",
   "execution_count": 180,
   "metadata": {},
   "outputs": [
    {
     "data": {
      "text/html": [
       "<div>\n",
       "<style>\n",
       "    .dataframe thead tr:only-child th {\n",
       "        text-align: right;\n",
       "    }\n",
       "\n",
       "    .dataframe thead th {\n",
       "        text-align: left;\n",
       "    }\n",
       "\n",
       "    .dataframe tbody tr th {\n",
       "        vertical-align: top;\n",
       "    }\n",
       "</style>\n",
       "<table border=\"1\" class=\"dataframe\">\n",
       "  <thead>\n",
       "    <tr style=\"text-align: right;\">\n",
       "      <th></th>\n",
       "      <th>Neighbourhood</th>\n",
       "      <th>Latitude</th>\n",
       "      <th>Longitude</th>\n",
       "    </tr>\n",
       "  </thead>\n",
       "  <tbody>\n",
       "    <tr>\n",
       "      <th>2</th>\n",
       "      <td>Parkwoods</td>\n",
       "      <td>43.758800</td>\n",
       "      <td>-79.320197</td>\n",
       "    </tr>\n",
       "    <tr>\n",
       "      <th>3</th>\n",
       "      <td>Victoria Village</td>\n",
       "      <td>43.732658</td>\n",
       "      <td>-79.311189</td>\n",
       "    </tr>\n",
       "    <tr>\n",
       "      <th>4</th>\n",
       "      <td>Harbourfront</td>\n",
       "      <td>43.640080</td>\n",
       "      <td>-79.380150</td>\n",
       "    </tr>\n",
       "    <tr>\n",
       "      <th>5</th>\n",
       "      <td>Regent Park</td>\n",
       "      <td>43.660706</td>\n",
       "      <td>-79.360457</td>\n",
       "    </tr>\n",
       "    <tr>\n",
       "      <th>6</th>\n",
       "      <td>Lawrence Heights</td>\n",
       "      <td>43.722778</td>\n",
       "      <td>-79.450933</td>\n",
       "    </tr>\n",
       "  </tbody>\n",
       "</table>\n",
       "</div>"
      ],
      "text/plain": [
       "      Neighbourhood   Latitude  Longitude\n",
       "2         Parkwoods  43.758800 -79.320197\n",
       "3  Victoria Village  43.732658 -79.311189\n",
       "4      Harbourfront  43.640080 -79.380150\n",
       "5       Regent Park  43.660706 -79.360457\n",
       "6  Lawrence Heights  43.722778 -79.450933"
      ]
     },
     "execution_count": 180,
     "metadata": {},
     "output_type": "execute_result"
    }
   ],
   "source": [
    "neigh_df.head()"
   ]
  },
  {
   "cell_type": "code",
   "execution_count": 185,
   "metadata": {},
   "outputs": [
    {
     "data": {
      "text/plain": [
       "(198, 3)"
      ]
     },
     "execution_count": 185,
     "metadata": {},
     "output_type": "execute_result"
    }
   ],
   "source": [
    "neigh_df.shape"
   ]
  },
  {
   "cell_type": "code",
   "execution_count": 187,
   "metadata": {},
   "outputs": [],
   "source": [
    "df = df.loc[neigh_df.index, :]"
   ]
  },
  {
   "cell_type": "code",
   "execution_count": 191,
   "metadata": {},
   "outputs": [],
   "source": [
    "df['Latitude'] = neigh_df['Latitude']\n",
    "df['Longitude'] = neigh_df['Longitude']"
   ]
  },
  {
   "cell_type": "code",
   "execution_count": 192,
   "metadata": {},
   "outputs": [
    {
     "data": {
      "text/html": [
       "<div>\n",
       "<style>\n",
       "    .dataframe thead tr:only-child th {\n",
       "        text-align: right;\n",
       "    }\n",
       "\n",
       "    .dataframe thead th {\n",
       "        text-align: left;\n",
       "    }\n",
       "\n",
       "    .dataframe tbody tr th {\n",
       "        vertical-align: top;\n",
       "    }\n",
       "</style>\n",
       "<table border=\"1\" class=\"dataframe\">\n",
       "  <thead>\n",
       "    <tr style=\"text-align: right;\">\n",
       "      <th></th>\n",
       "      <th>Postcode</th>\n",
       "      <th>Borough</th>\n",
       "      <th>Neighbourhood</th>\n",
       "      <th>Latitude</th>\n",
       "      <th>Longitude</th>\n",
       "    </tr>\n",
       "  </thead>\n",
       "  <tbody>\n",
       "    <tr>\n",
       "      <th>2</th>\n",
       "      <td>M3A</td>\n",
       "      <td>North York</td>\n",
       "      <td>Parkwoods</td>\n",
       "      <td>43.758800</td>\n",
       "      <td>-79.320197</td>\n",
       "    </tr>\n",
       "    <tr>\n",
       "      <th>3</th>\n",
       "      <td>M4A</td>\n",
       "      <td>North York</td>\n",
       "      <td>Victoria Village</td>\n",
       "      <td>43.732658</td>\n",
       "      <td>-79.311189</td>\n",
       "    </tr>\n",
       "    <tr>\n",
       "      <th>4</th>\n",
       "      <td>M5A</td>\n",
       "      <td>Downtown Toronto</td>\n",
       "      <td>Harbourfront</td>\n",
       "      <td>43.640080</td>\n",
       "      <td>-79.380150</td>\n",
       "    </tr>\n",
       "    <tr>\n",
       "      <th>5</th>\n",
       "      <td>M5A</td>\n",
       "      <td>Downtown Toronto</td>\n",
       "      <td>Regent Park</td>\n",
       "      <td>43.660706</td>\n",
       "      <td>-79.360457</td>\n",
       "    </tr>\n",
       "    <tr>\n",
       "      <th>6</th>\n",
       "      <td>M6A</td>\n",
       "      <td>North York</td>\n",
       "      <td>Lawrence Heights</td>\n",
       "      <td>43.722778</td>\n",
       "      <td>-79.450933</td>\n",
       "    </tr>\n",
       "  </tbody>\n",
       "</table>\n",
       "</div>"
      ],
      "text/plain": [
       "  Postcode           Borough     Neighbourhood   Latitude  Longitude\n",
       "2      M3A        North York         Parkwoods  43.758800 -79.320197\n",
       "3      M4A        North York  Victoria Village  43.732658 -79.311189\n",
       "4      M5A  Downtown Toronto      Harbourfront  43.640080 -79.380150\n",
       "5      M5A  Downtown Toronto       Regent Park  43.660706 -79.360457\n",
       "6      M6A        North York  Lawrence Heights  43.722778 -79.450933"
      ]
     },
     "execution_count": 192,
     "metadata": {},
     "output_type": "execute_result"
    }
   ],
   "source": [
    "df.head()"
   ]
  },
  {
   "cell_type": "code",
   "execution_count": 193,
   "metadata": {
    "collapsed": true
   },
   "outputs": [],
   "source": [
    "df.to_csv('neighborhoods.csv')"
   ]
  },
  {
   "cell_type": "code",
   "execution_count": 195,
   "metadata": {},
   "outputs": [
    {
     "name": "stderr",
     "output_type": "stream",
     "text": [
      "C:\\Users\\singh\\Anaconda3\\lib\\site-packages\\ipykernel_launcher.py:1: DeprecationWarning: Using Nominatim with the default \"geopy/1.20.0\" `user_agent` is strongly discouraged, as it violates Nominatim's ToS https://operations.osmfoundation.org/policies/nominatim/ and may possibly cause 403 and 429 HTTP errors. Please specify a custom `user_agent` with `Nominatim(user_agent=\"my-application\")` or by overriding the default `user_agent`: `geopy.geocoders.options.default_user_agent = \"my-application\"`. In geopy 2.0 this will become an exception.\n",
      "  \"\"\"Entry point for launching an IPython kernel.\n"
     ]
    },
    {
     "data": {
      "text/plain": [
       "{'address': {'city': 'Toronto',\n",
       "  'city_district': 'Toronto Centre',\n",
       "  'commercial': 'Commerce Court',\n",
       "  'country': 'Canada',\n",
       "  'country_code': 'ca',\n",
       "  'house_number': '42',\n",
       "  'postcode': 'M5E 1G6',\n",
       "  'road': 'Yonge Street',\n",
       "  'state': 'Ontario',\n",
       "  'suburb': 'Old Toronto'},\n",
       " 'boundingbox': ['43.647606', '43.647806', '-79.377528', '-79.377328'],\n",
       " 'display_name': '42, Yonge Street, Commerce Court, Toronto Centre, Old Toronto, Toronto, Ontario, M5E 1G6, Canada',\n",
       " 'lat': '43.647706',\n",
       " 'licence': 'Data © OpenStreetMap contributors, ODbL 1.0. https://osm.org/copyright',\n",
       " 'lon': '-79.377428',\n",
       " 'osm_id': 401089706,\n",
       " 'osm_type': 'way',\n",
       " 'place_id': 19197983}"
      ]
     },
     "execution_count": 195,
     "metadata": {},
     "output_type": "execute_result"
    }
   ],
   "source": [
    "geolocator = Nominatim()\n",
    "g = geolocator.reverse(\"43.6478484, -79.377351\", timeout=10)\n",
    "g.raw"
   ]
  },
  {
   "cell_type": "code",
   "execution_count": null,
   "metadata": {
    "collapsed": true
   },
   "outputs": [],
   "source": []
  }
 ],
 "metadata": {
  "kernelspec": {
   "display_name": "Python 3",
   "language": "python",
   "name": "python3"
  },
  "language_info": {
   "codemirror_mode": {
    "name": "ipython",
    "version": 3
   },
   "file_extension": ".py",
   "mimetype": "text/x-python",
   "name": "python",
   "nbconvert_exporter": "python",
   "pygments_lexer": "ipython3",
   "version": "3.6.1"
  }
 },
 "nbformat": 4,
 "nbformat_minor": 2
}
